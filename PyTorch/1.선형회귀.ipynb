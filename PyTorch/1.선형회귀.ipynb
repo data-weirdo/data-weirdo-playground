{
 "cells": [
  {
   "cell_type": "markdown",
   "metadata": {},
   "source": [
    "## 단순선형회귀"
   ]
  },
  {
   "cell_type": "markdown",
   "metadata": {},
   "source": [
    "## cost function 계산시 → F.mse_loss()"
   ]
  },
  {
   "cell_type": "markdown",
   "metadata": {},
   "source": [
    "### Loss function 직접 정의"
   ]
  },
  {
   "cell_type": "code",
   "execution_count": 1,
   "metadata": {},
   "outputs": [],
   "source": [
    "import torch\n",
    "import torch.optim as optim\n",
    "import torch.nn as nn\n",
    "import torch.nn.functional as F"
   ]
  },
  {
   "cell_type": "code",
   "execution_count": 2,
   "metadata": {},
   "outputs": [
    {
     "name": "stdout",
     "output_type": "stream",
     "text": [
      "Epoch    0/1000 W:0.093, b: 0.040000 Cost: 4.666667\n",
      "Epoch  100/1000 W:0.873, b: 0.289036 Cost: 0.012043\n",
      "Epoch  200/1000 W:0.900, b: 0.227211 Cost: 0.007442\n",
      "Epoch  300/1000 W:0.921, b: 0.178608 Cost: 0.004598\n",
      "Epoch  400/1000 W:0.938, b: 0.140402 Cost: 0.002842\n",
      "Epoch  500/1000 W:0.951, b: 0.110369 Cost: 0.001756\n",
      "Epoch  600/1000 W:0.962, b: 0.086760 Cost: 0.001085\n",
      "Epoch  700/1000 W:0.970, b: 0.068201 Cost: 0.000670\n",
      "Epoch  800/1000 W:0.976, b: 0.053612 Cost: 0.000414\n",
      "Epoch  900/1000 W:0.981, b: 0.042144 Cost: 0.000256\n",
      "Epoch 1000/1000 W:0.985, b: 0.033129 Cost: 0.000158\n"
     ]
    }
   ],
   "source": [
    "# 가상의 데이터 \n",
    "x_train = torch.FloatTensor([[1], [2], [3]])\n",
    "y_train = torch.FloatTensor([[1], [2], [3]])\n",
    "\n",
    "# 모델 초기화\n",
    "W = torch.zeros(1, requires_grad=True)\n",
    "b = torch.zeros(1, requires_grad=True)\n",
    "\n",
    "# Optimizer 설정\n",
    "optimizer = optim.SGD([W,b], lr=0.01)\n",
    "\n",
    "\n",
    "total_epochs = 1000\n",
    "for epoch in range(total_epochs+1):\n",
    "    \n",
    "    hypothesis = x_train * W + b # 가정한 단순선형회귀 모델\n",
    "    cost = torch.mean((hypothesis - y_train)**2) # cost 계산\n",
    "    \n",
    "    optimizer.zero_grad()\n",
    "    cost.backward()\n",
    "    optimizer.step()\n",
    "    \n",
    "    if epoch % 100 == 0:\n",
    "        print('Epoch {:4d}/{} W:{:.3f}, b: {:3f} Cost: {:.6f}'.format(\n",
    "            epoch, total_epochs, W.item(), b.item(), cost.item()\n",
    "        ))"
   ]
  },
  {
   "cell_type": "markdown",
   "metadata": {},
   "source": [
    "### Class를 활용하여 정의"
   ]
  },
  {
   "cell_type": "code",
   "execution_count": 3,
   "metadata": {},
   "outputs": [],
   "source": [
    "class LInearRegressionModel(nn.Module):\n",
    "    def __init__(self):\n",
    "        super().__init__()\n",
    "        self.linear = nn.Linear(1,1)\n",
    "        \n",
    "    def forward(self, x):\n",
    "        return self.linear(x)"
   ]
  },
  {
   "cell_type": "code",
   "execution_count": 4,
   "metadata": {},
   "outputs": [
    {
     "name": "stdout",
     "output_type": "stream",
     "text": [
      "Epoch    0/1000 W: 0.151, b:-0.229, Cost: 5.308906\n",
      "Epoch  100/1000 W: 0.958, b:0.095, Cost: 0.001306\n",
      "Epoch  200/1000 W: 0.967, b:0.075, Cost: 0.000807\n",
      "Epoch  300/1000 W: 0.974, b:0.059, Cost: 0.000499\n",
      "Epoch  400/1000 W: 0.980, b:0.046, Cost: 0.000308\n",
      "Epoch  500/1000 W: 0.984, b:0.036, Cost: 0.000190\n",
      "Epoch  600/1000 W: 0.987, b:0.029, Cost: 0.000118\n",
      "Epoch  700/1000 W: 0.990, b:0.022, Cost: 0.000073\n",
      "Epoch  800/1000 W: 0.992, b:0.018, Cost: 0.000045\n",
      "Epoch  900/1000 W: 0.994, b:0.014, Cost: 0.000028\n",
      "Epoch 1000/1000 W: 0.995, b:0.011, Cost: 0.000017\n"
     ]
    }
   ],
   "source": [
    "model = LInearRegressionModel()\n",
    "optimizer = optim.SGD(model.parameters(), lr=0.01)\n",
    "\n",
    "total_epochs = 1000\n",
    "\n",
    "for epochs in range(total_epochs + 1):\n",
    "    \n",
    "    prediction = model(x_train)\n",
    "    cost = F.mse_loss(prediction, y_train)\n",
    "    \n",
    "    optimizer.zero_grad() # 초기화\n",
    "    cost.backward() # 모델의 매개변수에 대한 Loss의 변화도 계산 \n",
    "    optimizer.step() # step 함수 호출 -> 매개변수 갱신\n",
    "    \n",
    "    if epochs % 100 == 0:\n",
    "        params = list(model.parameters())\n",
    "        W = params[0].item()\n",
    "        b = params[1].item()\n",
    "        print('Epoch {:4d}/{} W: {:.3f}, b:{:.3f}, Cost: {:.6f}'.format(\n",
    "            epochs, total_epochs, W, b, cost.item()\n",
    "        ))"
   ]
  },
  {
   "cell_type": "markdown",
   "metadata": {},
   "source": [
    "## 다중선형회귀 using class"
   ]
  },
  {
   "cell_type": "code",
   "execution_count": 5,
   "metadata": {},
   "outputs": [],
   "source": [
    "x_train = torch.FloatTensor([[73, 80, 75],\n",
    "                             [93, 88, 93],\n",
    "                             [89, 91, 90],\n",
    "                             [96, 98, 100],\n",
    "                             [73, 66, 70]])\n",
    "y_train = torch.FloatTensor([[152], [185], [180], [196], [142]])"
   ]
  },
  {
   "cell_type": "code",
   "execution_count": 6,
   "metadata": {},
   "outputs": [],
   "source": [
    "class MultipleRegressionModel(nn.Module):\n",
    "    \n",
    "    def __init__(self):\n",
    "        super().__init__()\n",
    "        self.linear = nn.Linear(3,1)\n",
    "        \n",
    "    def forward(self, x):\n",
    "        return self.linear(x)"
   ]
  },
  {
   "cell_type": "code",
   "execution_count": 7,
   "metadata": {},
   "outputs": [
    {
     "name": "stdout",
     "output_type": "stream",
     "text": [
      "Epoch    0/1000 Cost: 27605.423828\n",
      "Epoch  100/1000 Cost: 8.582879\n",
      "Epoch  200/1000 Cost: 8.140619\n",
      "Epoch  300/1000 Cost: 7.721677\n",
      "Epoch  400/1000 Cost: 7.324798\n",
      "Epoch  500/1000 Cost: 6.948928\n",
      "Epoch  600/1000 Cost: 6.592843\n",
      "Epoch  700/1000 Cost: 6.255535\n",
      "Epoch  800/1000 Cost: 5.936033\n",
      "Epoch  900/1000 Cost: 5.633360\n",
      "Epoch 1000/1000 Cost: 5.346668\n"
     ]
    }
   ],
   "source": [
    "model2 = MultipleRegressionModel()\n",
    "optimizer = optim.SGD(model2.parameters(), lr=1e-5) # learning rate을 1로하면 학습이 안됨. \n",
    "\n",
    "total_epochs = 1000\n",
    "\n",
    "for epoch in range(total_epochs+1):\n",
    "    \n",
    "    prediction = model2(x_train)\n",
    "    cost = F.mse_loss(prediction, y_train)\n",
    "    \n",
    "    optimizer.zero_grad()\n",
    "    cost.backward()\n",
    "    optimizer.step()\n",
    "    \n",
    "    if epoch % 100 == 0:\n",
    "        print('Epoch {:4d}/{} Cost: {:.6f}'.format(\n",
    "            epoch, total_epochs, cost.item()\n",
    "        ))"
   ]
  }
 ],
 "metadata": {
  "kernelspec": {
   "display_name": "Python 3",
   "language": "python",
   "name": "python3"
  },
  "language_info": {
   "codemirror_mode": {
    "name": "ipython",
    "version": 3
   },
   "file_extension": ".py",
   "mimetype": "text/x-python",
   "name": "python",
   "nbconvert_exporter": "python",
   "pygments_lexer": "ipython3",
   "version": "3.6.6"
  }
 },
 "nbformat": 4,
 "nbformat_minor": 2
}
